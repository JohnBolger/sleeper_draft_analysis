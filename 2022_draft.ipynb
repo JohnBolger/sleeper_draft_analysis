{
 "cells": [
  {
   "cell_type": "code",
   "execution_count": 1,
   "metadata": {},
   "outputs": [],
   "source": [
    "import requests\n",
    "import pandas as pd\n",
    "import time"
   ]
  },
  {
   "cell_type": "markdown",
   "metadata": {},
   "source": [
    "# Season Info"
   ]
  },
  {
   "cell_type": "code",
   "execution_count": 2,
   "metadata": {},
   "outputs": [],
   "source": [
    "userid = 'enter_user'\n",
    "season = 2022\n",
    "league_id = 'enter_league_id'"
   ]
  },
  {
   "cell_type": "markdown",
   "metadata": {},
   "source": [
    "# API"
   ]
  },
  {
   "cell_type": "code",
   "execution_count": 3,
   "metadata": {},
   "outputs": [],
   "source": [
    "league = requests.get('https://api.sleeper.app/v1/league/'+league_id).json()\n",
    "draft_id = league['draft_id']\n",
    "\n",
    "teams = requests.get('https://api.sleeper.app/v1/league/'+league_id+'/users').json()\n",
    "\n",
    "draft = requests.get('https://api.sleeper.app/v1/draft/'+draft_id+'/picks').json()"
   ]
  },
  {
   "cell_type": "markdown",
   "metadata": {},
   "source": [
    "# Get Manger Names"
   ]
  },
  {
   "cell_type": "code",
   "execution_count": 4,
   "metadata": {},
   "outputs": [],
   "source": [
    "team_names = pd.DataFrame(columns = ['User ID', 'Manager'])\n",
    "\n",
    "for i in range(len(teams)):\n",
    "    user_id = teams[i]['user_id']\n",
    "    display_name = teams[i]['display_name']\n",
    "    \n",
    "    team_names = team_names.append({'User ID': user_id, 'Manager': display_name}, ignore_index=True)"
   ]
  },
  {
   "cell_type": "markdown",
   "metadata": {},
   "source": [
    "# Get Draft Info"
   ]
  },
  {
   "cell_type": "code",
   "execution_count": 5,
   "metadata": {},
   "outputs": [],
   "source": [
    "df = pd.DataFrame(columns = ['Round', 'Pick', 'Player ID', 'Player', 'Position', 'User ID'])\n",
    "\n",
    "for i in range(len(draft)):\n",
    "    round_no = draft[i]['round']\n",
    "    pick_no = draft[i]['pick_no']\n",
    "    player_id = draft[i]['player_id']\n",
    "    name = str(draft[i]['metadata']['first_name']) + ' ' + str(draft[i]['metadata']['last_name'])\n",
    "    pos = draft[i]['metadata']['position']\n",
    "    owner = draft[i]['picked_by']\n",
    "    \n",
    "    df = df.append({'Round': round_no, 'Pick': pick_no, 'Player ID': player_id,\n",
    "                   'Player': name, 'Position': pos, 'User ID': owner}, ignore_index=True)"
   ]
  },
  {
   "cell_type": "code",
   "execution_count": 6,
   "metadata": {},
   "outputs": [],
   "source": [
    "df = df.merge(team_names, how='left', left_on = 'User ID', right_on = 'User ID')"
   ]
  },
  {
   "cell_type": "markdown",
   "metadata": {},
   "source": [
    "# Load Stats"
   ]
  },
  {
   "cell_type": "code",
   "execution_count": 7,
   "metadata": {},
   "outputs": [],
   "source": [
    "qb =  pd.read_csv('2022qbstats.csv')\n",
    "rb =  pd.read_csv('2022rbstats.csv')\n",
    "wr =  pd.read_csv('2022wrstats.csv')\n",
    "te =  pd.read_csv('2022testats.csv')\n",
    "k =  pd.read_csv('2022kstats.csv')\n",
    "dst =  pd.read_csv('2022dststats.csv')"
   ]
  },
  {
   "cell_type": "code",
   "execution_count": 8,
   "metadata": {},
   "outputs": [],
   "source": [
    "for i in range(len(qb)):\n",
    "    qb.at[i,'Player'] = qb.at[i,'Player'].strip()\n",
    "    \n",
    "for i in range(len(rb)):\n",
    "    rb.at[i,'Player'] = rb.at[i,'Player'].strip()\n",
    "    \n",
    "for i in range(len(wr)):\n",
    "    wr.at[i,'Player'] = wr.at[i,'Player'].strip()\n",
    "    \n",
    "for i in range(len(te)):\n",
    "    te.at[i,'Player'] = te.at[i,'Player'].strip()\n",
    "    \n",
    "for i in range(len(k)):\n",
    "    k.at[i,'Player'] = k.at[i,'Player'].strip()\n",
    "    \n",
    "for i in range(len(dst)):\n",
    "    dst.at[i,'Player'] = dst.at[i,'Player'].strip()"
   ]
  },
  {
   "cell_type": "markdown",
   "metadata": {},
   "source": [
    "# Merge Stats"
   ]
  },
  {
   "cell_type": "code",
   "execution_count": 9,
   "metadata": {},
   "outputs": [],
   "source": [
    "stats = qb.append(rb).append(wr).append(te).append(k).append(dst)"
   ]
  },
  {
   "cell_type": "code",
   "execution_count": 10,
   "metadata": {},
   "outputs": [],
   "source": [
    "Full = df.merge(stats[['Player','G','FPTS','FPTS/G']], how='left',left_on='Player', right_on='Player')"
   ]
  },
  {
   "cell_type": "markdown",
   "metadata": {},
   "source": [
    "# Create Tiers for analysis purposes"
   ]
  },
  {
   "cell_type": "code",
   "execution_count": 11,
   "metadata": {},
   "outputs": [],
   "source": [
    "Full[\"Draft Tier\"] =  Full['Round'].map({1: 1, 2:1, \n",
    "                                          3:2, 4:2, \n",
    "                                          5:3,6:3,7:3,8:3,\n",
    "                                          9:4,10:4,11:4,12:4,13:4,14:5,15:5,16:5,17:5\n",
    "                                         })\n",
    "\n",
    "Full[\"QT Draft Tier\"] =  Full['Round'].map({1: 1, 2:1, \n",
    "                                          3:1, 4:1, \n",
    "                                          5:1,6:2,7:2,8:2,\n",
    "                                          9:2,10:2,11:3,12:3,13:3,14:4,15:4,16:4,17:4\n",
    "                                         })"
   ]
  },
  {
   "cell_type": "code",
   "execution_count": 12,
   "metadata": {},
   "outputs": [],
   "source": [
    "for i in range(len(Full)):\n",
    "    if Full.at[i,'Position'] == 'QB':\n",
    "        Full.at[i,'Tier Med'] = Full.at[i,'FPTS'] - Full.loc[(Full['QT Draft Tier'] == Full.at[i,'QT Draft Tier']) & (Full['Position'] == Full.at[i,'Position'])]['FPTS'].median()\n",
    "    elif Full.at[i,'Position'] == 'TE':\n",
    "        Full.at[i,'Tier Med'] = Full.at[i,'FPTS'] - Full.loc[(Full['QT Draft Tier'] == Full.at[i,'QT Draft Tier']) & (Full['Position'] == Full.at[i,'Position'])]['FPTS'].median()\n",
    "    else:\n",
    "        Full.at[i,'Tier Med'] = Full.at[i,'FPTS'] - Full.loc[(Full['Draft Tier'] == Full.at[i,'Draft Tier']) & (Full['Position'] == Full.at[i,'Position'])]['FPTS'].median()\n",
    "        \n",
    "    if  Full.at[i,'Tier Med'] < 0: \n",
    "        Full.at[i,'Tier Med'] = Full.at[i,'Tier Med']/(2**(Full.at[i,'Draft Tier']-1))"
   ]
  },
  {
   "cell_type": "code",
   "execution_count": 13,
   "metadata": {},
   "outputs": [],
   "source": [
    "Full['Tier Med'] = round(Full['Tier Med'],1)"
   ]
  },
  {
   "cell_type": "code",
   "execution_count": 14,
   "metadata": {},
   "outputs": [
    {
     "data": {
      "text/html": [
       "<div>\n",
       "<style scoped>\n",
       "    .dataframe tbody tr th:only-of-type {\n",
       "        vertical-align: middle;\n",
       "    }\n",
       "\n",
       "    .dataframe tbody tr th {\n",
       "        vertical-align: top;\n",
       "    }\n",
       "\n",
       "    .dataframe thead th {\n",
       "        text-align: right;\n",
       "    }\n",
       "</style>\n",
       "<table border=\"1\" class=\"dataframe\">\n",
       "  <thead>\n",
       "    <tr style=\"text-align: right;\">\n",
       "      <th></th>\n",
       "      <th>Round</th>\n",
       "      <th>Pick</th>\n",
       "      <th>Player ID</th>\n",
       "      <th>Player</th>\n",
       "      <th>Position</th>\n",
       "      <th>User ID</th>\n",
       "      <th>Manager</th>\n",
       "      <th>G</th>\n",
       "      <th>FPTS</th>\n",
       "      <th>FPTS/G</th>\n",
       "      <th>Draft Tier</th>\n",
       "      <th>QT Draft Tier</th>\n",
       "      <th>Tier Med</th>\n",
       "    </tr>\n",
       "  </thead>\n",
       "  <tbody>\n",
       "    <tr>\n",
       "      <th>0</th>\n",
       "      <td>1</td>\n",
       "      <td>1</td>\n",
       "      <td>4034</td>\n",
       "      <td>Christian McCaffrey</td>\n",
       "      <td>RB</td>\n",
       "      <td>335941988127891456</td>\n",
       "      <td>eddiey13</td>\n",
       "      <td>17.0</td>\n",
       "      <td>356.4</td>\n",
       "      <td>21.0</td>\n",
       "      <td>1</td>\n",
       "      <td>1</td>\n",
       "      <td>113.2</td>\n",
       "    </tr>\n",
       "    <tr>\n",
       "      <th>1</th>\n",
       "      <td>1</td>\n",
       "      <td>2</td>\n",
       "      <td>3198</td>\n",
       "      <td>Derrick Henry</td>\n",
       "      <td>RB</td>\n",
       "      <td>332669724372533248</td>\n",
       "      <td>SHEV</td>\n",
       "      <td>16.0</td>\n",
       "      <td>302.8</td>\n",
       "      <td>18.9</td>\n",
       "      <td>1</td>\n",
       "      <td>1</td>\n",
       "      <td>59.6</td>\n",
       "    </tr>\n",
       "    <tr>\n",
       "      <th>2</th>\n",
       "      <td>1</td>\n",
       "      <td>3</td>\n",
       "      <td>4029</td>\n",
       "      <td>Dalvin Cook</td>\n",
       "      <td>RB</td>\n",
       "      <td>599675198978981888</td>\n",
       "      <td>Jever42</td>\n",
       "      <td>17.0</td>\n",
       "      <td>237.8</td>\n",
       "      <td>14.0</td>\n",
       "      <td>1</td>\n",
       "      <td>1</td>\n",
       "      <td>-5.4</td>\n",
       "    </tr>\n",
       "    <tr>\n",
       "      <th>3</th>\n",
       "      <td>1</td>\n",
       "      <td>4</td>\n",
       "      <td>4035</td>\n",
       "      <td>Alvin Kamara</td>\n",
       "      <td>RB</td>\n",
       "      <td>332907205785317376</td>\n",
       "      <td>dvann811</td>\n",
       "      <td>15.0</td>\n",
       "      <td>211.7</td>\n",
       "      <td>14.1</td>\n",
       "      <td>1</td>\n",
       "      <td>1</td>\n",
       "      <td>-31.5</td>\n",
       "    </tr>\n",
       "    <tr>\n",
       "      <th>4</th>\n",
       "      <td>1</td>\n",
       "      <td>5</td>\n",
       "      <td>3164</td>\n",
       "      <td>Ezekiel Elliott</td>\n",
       "      <td>RB</td>\n",
       "      <td>332409631219408896</td>\n",
       "      <td>jwb4</td>\n",
       "      <td>15.0</td>\n",
       "      <td>185.8</td>\n",
       "      <td>12.4</td>\n",
       "      <td>1</td>\n",
       "      <td>1</td>\n",
       "      <td>-57.4</td>\n",
       "    </tr>\n",
       "    <tr>\n",
       "      <th>...</th>\n",
       "      <td>...</td>\n",
       "      <td>...</td>\n",
       "      <td>...</td>\n",
       "      <td>...</td>\n",
       "      <td>...</td>\n",
       "      <td>...</td>\n",
       "      <td>...</td>\n",
       "      <td>...</td>\n",
       "      <td>...</td>\n",
       "      <td>...</td>\n",
       "      <td>...</td>\n",
       "      <td>...</td>\n",
       "      <td>...</td>\n",
       "    </tr>\n",
       "    <tr>\n",
       "      <th>155</th>\n",
       "      <td>16</td>\n",
       "      <td>156</td>\n",
       "      <td>7611</td>\n",
       "      <td>Rhamondre Stevenson</td>\n",
       "      <td>RB</td>\n",
       "      <td>332409631219408896</td>\n",
       "      <td>jwb4</td>\n",
       "      <td>17.0</td>\n",
       "      <td>249.1</td>\n",
       "      <td>14.7</td>\n",
       "      <td>5</td>\n",
       "      <td>4</td>\n",
       "      <td>117.2</td>\n",
       "    </tr>\n",
       "    <tr>\n",
       "      <th>156</th>\n",
       "      <td>16</td>\n",
       "      <td>157</td>\n",
       "      <td>5119</td>\n",
       "      <td>Jason Sanders</td>\n",
       "      <td>K</td>\n",
       "      <td>332907205785317376</td>\n",
       "      <td>dvann811</td>\n",
       "      <td>17.0</td>\n",
       "      <td>135.0</td>\n",
       "      <td>7.9</td>\n",
       "      <td>5</td>\n",
       "      <td>4</td>\n",
       "      <td>-0.3</td>\n",
       "    </tr>\n",
       "    <tr>\n",
       "      <th>157</th>\n",
       "      <td>16</td>\n",
       "      <td>158</td>\n",
       "      <td>2747</td>\n",
       "      <td>Jason Myers</td>\n",
       "      <td>K</td>\n",
       "      <td>599675198978981888</td>\n",
       "      <td>Jever42</td>\n",
       "      <td>17.0</td>\n",
       "      <td>159.0</td>\n",
       "      <td>9.4</td>\n",
       "      <td>5</td>\n",
       "      <td>4</td>\n",
       "      <td>18.5</td>\n",
       "    </tr>\n",
       "    <tr>\n",
       "      <th>158</th>\n",
       "      <td>16</td>\n",
       "      <td>159</td>\n",
       "      <td>4144</td>\n",
       "      <td>Jonnu Smith</td>\n",
       "      <td>TE</td>\n",
       "      <td>332669724372533248</td>\n",
       "      <td>SHEV</td>\n",
       "      <td>12.0</td>\n",
       "      <td>52.0</td>\n",
       "      <td>4.3</td>\n",
       "      <td>5</td>\n",
       "      <td>4</td>\n",
       "      <td>0.0</td>\n",
       "    </tr>\n",
       "    <tr>\n",
       "      <th>159</th>\n",
       "      <td>16</td>\n",
       "      <td>160</td>\n",
       "      <td>7547</td>\n",
       "      <td>Amon-Ra St. Brown</td>\n",
       "      <td>WR</td>\n",
       "      <td>335941988127891456</td>\n",
       "      <td>eddiey13</td>\n",
       "      <td>16.0</td>\n",
       "      <td>267.6</td>\n",
       "      <td>16.7</td>\n",
       "      <td>5</td>\n",
       "      <td>4</td>\n",
       "      <td>179.5</td>\n",
       "    </tr>\n",
       "  </tbody>\n",
       "</table>\n",
       "<p>160 rows × 13 columns</p>\n",
       "</div>"
      ],
      "text/plain": [
       "    Round Pick Player ID               Player Position             User ID  \\\n",
       "0       1    1      4034  Christian McCaffrey       RB  335941988127891456   \n",
       "1       1    2      3198        Derrick Henry       RB  332669724372533248   \n",
       "2       1    3      4029          Dalvin Cook       RB  599675198978981888   \n",
       "3       1    4      4035         Alvin Kamara       RB  332907205785317376   \n",
       "4       1    5      3164      Ezekiel Elliott       RB  332409631219408896   \n",
       "..    ...  ...       ...                  ...      ...                 ...   \n",
       "155    16  156      7611  Rhamondre Stevenson       RB  332409631219408896   \n",
       "156    16  157      5119        Jason Sanders        K  332907205785317376   \n",
       "157    16  158      2747          Jason Myers        K  599675198978981888   \n",
       "158    16  159      4144          Jonnu Smith       TE  332669724372533248   \n",
       "159    16  160      7547    Amon-Ra St. Brown       WR  335941988127891456   \n",
       "\n",
       "      Manager     G   FPTS  FPTS/G  Draft Tier  QT Draft Tier  Tier Med  \n",
       "0    eddiey13  17.0  356.4    21.0           1              1     113.2  \n",
       "1        SHEV  16.0  302.8    18.9           1              1      59.6  \n",
       "2     Jever42  17.0  237.8    14.0           1              1      -5.4  \n",
       "3    dvann811  15.0  211.7    14.1           1              1     -31.5  \n",
       "4        jwb4  15.0  185.8    12.4           1              1     -57.4  \n",
       "..        ...   ...    ...     ...         ...            ...       ...  \n",
       "155      jwb4  17.0  249.1    14.7           5              4     117.2  \n",
       "156  dvann811  17.0  135.0     7.9           5              4      -0.3  \n",
       "157   Jever42  17.0  159.0     9.4           5              4      18.5  \n",
       "158      SHEV  12.0   52.0     4.3           5              4       0.0  \n",
       "159  eddiey13  16.0  267.6    16.7           5              4     179.5  \n",
       "\n",
       "[160 rows x 13 columns]"
      ]
     },
     "execution_count": 14,
     "metadata": {},
     "output_type": "execute_result"
    }
   ],
   "source": [
    "Full"
   ]
  },
  {
   "cell_type": "markdown",
   "metadata": {},
   "source": [
    "# Write .csv"
   ]
  },
  {
   "cell_type": "code",
   "execution_count": 26,
   "metadata": {},
   "outputs": [],
   "source": [
    "from pathlib import Path  \n",
    "filepath = Path(r'{}.csv')  \n",
    "filepath.parent.mkdir(parents=True, exist_ok=True)  \n",
    "Full.to_csv(filepath.format(league_id))"
   ]
  },
  {
   "cell_type": "code",
   "execution_count": null,
   "metadata": {},
   "outputs": [],
   "source": []
  }
 ],
 "metadata": {
  "kernelspec": {
   "display_name": "Python 3",
   "language": "python",
   "name": "python3"
  },
  "language_info": {
   "codemirror_mode": {
    "name": "ipython",
    "version": 3
   },
   "file_extension": ".py",
   "mimetype": "text/x-python",
   "name": "python",
   "nbconvert_exporter": "python",
   "pygments_lexer": "ipython3",
   "version": "3.8.5"
  }
 },
 "nbformat": 4,
 "nbformat_minor": 4
}
